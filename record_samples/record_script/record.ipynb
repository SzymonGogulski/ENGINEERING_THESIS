{
 "cells": [
  {
   "cell_type": "code",
   "execution_count": 1,
   "metadata": {},
   "outputs": [],
   "source": [
    "import serial\n",
    "import sys\n",
    "from pydub import AudioSegment\n",
    "import numpy as np\n",
    "%matplotlib inline\n",
    "import matplotlib.pyplot as plt\n",
    "plt.switch_backend('Qt5Agg')"
   ]
  },
  {
   "cell_type": "code",
   "execution_count": 2,
   "metadata": {},
   "outputs": [
    {
     "name": "stdout",
     "output_type": "stream",
     "text": [
      "ok\n"
     ]
    }
   ],
   "source": [
    "# Configuration\n",
    "PORT = '/dev/ttyACM0'\n",
    "BAUD_RATE = 115200\n",
    "print(\"ok\")"
   ]
  },
  {
   "cell_type": "code",
   "execution_count": 3,
   "metadata": {},
   "outputs": [],
   "source": [
    "SIGNAL_MEAN = 2080\n",
    "SIGNAL_RANGE = 500\n",
    "SIGNAL_RANGE_INV = 1/SIGNAL_RANGE"
   ]
  },
  {
   "cell_type": "code",
   "execution_count": 4,
   "metadata": {},
   "outputs": [],
   "source": [
    "def normalize(raw):\n",
    "    normalized = (raw - SIGNAL_MEAN) * SIGNAL_RANGE_INV\n",
    "    normalized = 1.0 if normalized > 1.0 else normalized\n",
    "    normalized = -1.0 if normalized < -1.0 else normalized\n",
    "    return normalized"
   ]
  },
  {
   "cell_type": "code",
   "execution_count": 6,
   "metadata": {},
   "outputs": [],
   "source": [
    "n = 31"
   ]
  },
  {
   "cell_type": "markdown",
   "metadata": {},
   "source": [
    "# **Record 1 second**"
   ]
  },
  {
   "cell_type": "code",
   "execution_count": 11,
   "metadata": {},
   "outputs": [
    {
     "name": "stdout",
     "output_type": "stream",
     "text": [
      "Waiting to receive samples...\n",
      "Recorded 36.mp3\n",
      "16000\n"
     ]
    }
   ],
   "source": [
    "with serial.Serial(PORT, BAUD_RATE, timeout=None) as ser:\n",
    "    print(\"Waiting to receive samples...\")\n",
    "\n",
    "    samples = []\n",
    "    count = 0\n",
    "    num_samples = 16000\n",
    "    num_seconds = 1\n",
    "\n",
    "    for i in range(num_seconds * num_samples):\n",
    "        line = ser.readline().strip()\n",
    "        if not line:\n",
    "            print(\"Warning: Received empty line, skipping.\")\n",
    "            continue\n",
    "        \n",
    "        try:\n",
    "            sample_value = float(line)\n",
    "            samples.append(sample_value)\n",
    "\n",
    "            count += 1\n",
    "                \n",
    "        except ValueError:\n",
    "            print(f\"Warning: Could not parse line '{line}' as an float.\")\n",
    "            continue\n",
    "    \n",
    "\n",
    "    if len(samples) > num_seconds * num_samples:\n",
    "        # Remove excess samples\n",
    "        samples = samples[:num_seconds * num_samples]\n",
    "    elif len(samples) < num_seconds * num_samples:\n",
    "        # Pad with zeros\n",
    "        samples = samples + [0] * (num_seconds * num_samples - len(samples))\n",
    "\n",
    "    samples = list(map(normalize, samples))\n",
    "    samples = np.array(samples, dtype=np.float32)\n",
    "    samples = (samples * 32767).astype(np.int16)\n",
    "    raw_data = samples.tobytes()\n",
    "\n",
    "\n",
    "    \n",
    "    audio_segment = AudioSegment(\n",
    "        data=raw_data,\n",
    "        sample_width=2,\n",
    "        frame_rate=16000,\n",
    "        channels=1\n",
    "    )\n",
    "\n",
    "    n = n+1\n",
    "    file = str(n) + \".mp3\"\n",
    "    audio_segment.export(file, format=\"mp3\")\n",
    "    print(\"Recorded \" + file)\n",
    "    print(len(samples))"
   ]
  },
  {
   "cell_type": "code",
   "execution_count": 47,
   "metadata": {},
   "outputs": [
    {
     "data": {
      "text/plain": [
       "15999"
      ]
     },
     "execution_count": 47,
     "metadata": {},
     "output_type": "execute_result"
    }
   ],
   "source": [
    "len(samples)"
   ]
  },
  {
   "cell_type": "code",
   "execution_count": 18,
   "metadata": {},
   "outputs": [
    {
     "name": "stdout",
     "output_type": "stream",
     "text": [
      "0.mp3\n"
     ]
    }
   ],
   "source": [
    "file = str(n) + \".mp3\"\n",
    "print(file)"
   ]
  },
  {
   "cell_type": "markdown",
   "metadata": {},
   "source": [
    "# **Record 5 seconds**"
   ]
  },
  {
   "cell_type": "code",
   "execution_count": 16,
   "metadata": {},
   "outputs": [
    {
     "name": "stdout",
     "output_type": "stream",
     "text": [
      "Waiting to receive samples...\n",
      "All samples successfully received and stored in memory.\n",
      "First 10 samples: [0.08, 0.08, 0.08, 0.0801, 0.0801, 0.0802, 0.0803, 0.0804, 0.0806, 0.0807]\n"
     ]
    }
   ],
   "source": [
    "with serial.Serial(PORT, BAUD_RATE, timeout=None) as ser:\n",
    "    print(\"Waiting to receive samples...\")\n",
    "\n",
    "    samples = []\n",
    "    count = 0\n",
    "\n",
    "    # Read NUM_SAMPLES lines\n",
    "    for i in range(NUM_SAMPLES):\n",
    "        line = ser.readline().strip()\n",
    "        if not line:\n",
    "            print(\"Warning: Received empty line, skipping.\")\n",
    "            continue\n",
    "        \n",
    "        try:\n",
    "            sample_value = float(line)\n",
    "            samples.append(sample_value)\n",
    "\n",
    "            count += 1\n",
    "            if count % 10000 == 0:\n",
    "                print(f\"Received {count} samples...\")\n",
    "                \n",
    "        except ValueError:\n",
    "            print(f\"Warning: Could not parse line '{line}' as an float.\")\n",
    "            continue\n",
    "        \n",
    "\n",
    "\n",
    "    if len(samples) < NUM_SAMPLES:\n",
    "        print(f\"Warning: Expected {NUM_SAMPLES} samples, but received {len(samples)}.\")\n",
    "    else:\n",
    "        print(\"All samples successfully received and stored in memory.\")\n",
    "\n",
    "    print(\"First 10 samples:\", samples[:10])"
   ]
  },
  {
   "cell_type": "code",
   "execution_count": 17,
   "metadata": {},
   "outputs": [
    {
     "data": {
      "text/plain": [
       "1024"
      ]
     },
     "execution_count": 17,
     "metadata": {},
     "output_type": "execute_result"
    }
   ],
   "source": [
    "len(samples)"
   ]
  },
  {
   "cell_type": "code",
   "execution_count": 58,
   "metadata": {},
   "outputs": [],
   "source": [
    "normalized_samples = list(map(normalize, samples))"
   ]
  },
  {
   "cell_type": "code",
   "execution_count": 37,
   "metadata": {},
   "outputs": [
    {
     "name": "stdout",
     "output_type": "stream",
     "text": [
      "First 10 normalized samples: [0.020833333333333336, 0.015000000000000001, 0.030000000000000002, 0.02666666666666667, 0.011666666666666667, 0.020833333333333336, 0.0, 0.007500000000000001, 0.023333333333333334, -0.0016666666666666668]\n"
     ]
    }
   ],
   "source": [
    "print(\"First 10 normalized samples:\", normalized_samples[:10])"
   ]
  },
  {
   "cell_type": "code",
   "execution_count": 18,
   "metadata": {},
   "outputs": [],
   "source": [
    "def plot_array(y, sr):\n",
    "    time = np.linspace(0, len(y) / sr, len(y))\n",
    "\n",
    "    # Plot the waveform\n",
    "    plt.figure(figsize=(10, 4))\n",
    "    plt.plot(time, y, label=\"Amplitude\")\n",
    "    plt.xlabel(\"Time [s]\")\n",
    "    plt.ylabel(\"Amplitude\")\n",
    "    plt.title(\"Waveform\")\n",
    "    plt.grid()\n",
    "    plt.tight_layout()\n",
    "    plt.show()"
   ]
  },
  {
   "cell_type": "code",
   "execution_count": 19,
   "metadata": {},
   "outputs": [
    {
     "data": {
      "image/png": "[encoded data removed]",
      "text/plain": [
       "<Figure size 1000x400 with 1 Axes>"
      ]
     },
     "metadata": {},
     "output_type": "display_data"
    }
   ],
   "source": [
    "plot_array(samples, 16000)"
   ]
  },
  {
   "cell_type": "code",
   "execution_count": 60,
   "metadata": {},
   "outputs": [],
   "source": [
    "normalized_samples = np.array(normalized_samples, dtype=np.float32)\n",
    "\n",
    "int_samples = (normalized_samples * 32767).astype(np.int16)\n",
    "raw_data = int_samples.tobytes()\n",
    "\n",
    "# Create an AudioSegment. \n",
    "# - sample_width=2 for 16-bit audio\n",
    "# - frame_rate=16000 as given\n",
    "# - channels=1 (mono)\n",
    "audio_segment = AudioSegment(\n",
    "    data=raw_data,\n",
    "    sample_width=2,\n",
    "    frame_rate=16000,\n",
    "    channels=1\n",
    ")"
   ]
  },
  {
   "cell_type": "code",
   "execution_count": 63,
   "metadata": {},
   "outputs": [],
   "source": [
    "from pydub.playback import play\n",
    "\n",
    "play(audio_segment)"
   ]
  },
  {
   "cell_type": "markdown",
   "metadata": {},
   "source": [
    "### EXPORT"
   ]
  },
  {
   "cell_type": "code",
   "execution_count": 64,
   "metadata": {},
   "outputs": [
    {
     "data": {
      "text/plain": [
       "<_io.BufferedRandom name='1-2050-550.mp3'>"
      ]
     },
     "execution_count": 64,
     "metadata": {},
     "output_type": "execute_result"
    }
   ],
   "source": [
    "audio_segment.export(\"1-2050-550.mp3\", format=\"mp3\")"
   ]
  },
  {
   "cell_type": "markdown",
   "metadata": {},
   "source": [
    "### MFCC"
   ]
  },
  {
   "cell_type": "code",
   "execution_count": null,
   "metadata": {},
   "outputs": [],
   "source": [
    "def audio_to_mfcc(audio_samples, sample_rate=16000,\n",
    "                  n_mfcc=13, n_fft=512, win_length=400, hop_length=160,\n",
    "                  fmin=20, fmax=None):\n",
    "    # Convert int16 samples to floating point and normalize to [-1, 1]\n",
    "    audio_float = audio_samples.astype(np.float32) / 32768.0\n",
    "    \n",
    "    # Compute MFCCs using librosa\n",
    "    \n",
    "    # Normalize MFCCs (mean normalization)\n",
    "    mfcc_features -= (np.mean(mfcc_features, axis=1, keepdims=True) + 1e-8)\n",
    "    \n",
    "    return mfcc_features"
   ]
  },
  {
   "cell_type": "code",
   "execution_count": 57,
   "metadata": {},
   "outputs": [],
   "source": [
    "from librosa.feature import mfcc\n",
    "\n",
    "mfcc_features = mfcc(y=normalized_samples, sr=16000, n_mfcc=13, n_fft=512, hop_length=160, win_length=400, fmin=20, fmax=None)\n",
    "mfcc_features -= (np.mean(mfcc_features, axis=0) + 1e-8)\n"
   ]
  },
  {
   "cell_type": "code",
   "execution_count": null,
   "metadata": {},
   "outputs": [],
   "source": []
  }
 ],
 "metadata": {
  "kernelspec": {
   "display_name": "Python 3",
   "language": "python",
   "name": "python3"
  },
  "language_info": {
   "codemirror_mode": {
    "name": "ipython",
    "version": 3
   },
   "file_extension": ".py",
   "mimetype": "text/x-python",
   "name": "python",
   "nbconvert_exporter": "python",
   "pygments_lexer": "ipython3",
   "version": "3.9.21"
  }
 },
 "nbformat": 4,
 "nbformat_minor": 2
}
