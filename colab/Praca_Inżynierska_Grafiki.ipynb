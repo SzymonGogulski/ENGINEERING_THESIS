{
  "nbformat": 4,
  "nbformat_minor": 0,
  "metadata": {
    "colab": {
      "provenance": []
    },
    "kernelspec": {
      "name": "python3",
      "display_name": "Python 3"
    },
    "language_info": {
      "name": "python"
    }
  },
  "cells": [
    {
      "cell_type": "markdown",
      "source": [
        "# **Klasyfikator**"
      ],
      "metadata": {
        "id": "0eaFfqTK-t2d"
      }
    },
    {
      "cell_type": "code",
      "source": [
        "import numpy as np\n",
        "\n",
        "T0 = np.array([0.47, 0.26, 0.52])\n",
        "a = 0.05\n",
        "\n",
        "def grad(T):\n",
        "    W1 = 27*T[0] + 10*T[1] + 7*T[2] - 4\n",
        "    W2 = 10*T[0] + 11*T[1] + 3*T[2] - 3\n",
        "    B = 7*T[0] + 3*T[1] + 2*T[2] - 1\n",
        "    return T - a*np.array([W1, W2, B])\n",
        "\n",
        "def recursive_grad(step, T=T0):\n",
        "    if step == 0:\n",
        "        return T\n",
        "    return grad(recursive_grad(step - 1, T))\n",
        "\n",
        "T10 = recursive_grad(10)\n",
        "T20 = recursive_grad(20)\n",
        "T50 = recursive_grad(50)\n",
        "T150 = recursive_grad(150)\n",
        "T300 = recursive_grad(300)\n",
        "\n",
        "print(T0)\n",
        "print(T10)\n",
        "print(T20)\n",
        "print(T50)\n",
        "print(T150)\n",
        "print(T300)"
      ],
      "metadata": {
        "id": "bTjVffXj-toN"
      },
      "execution_count": null,
      "outputs": []
    },
    {
      "cell_type": "code",
      "source": [
        "import tensorflow as tf\n",
        "import matplotlib.pyplot as plt\n",
        "\n",
        "negative_samples = [[2, 1],[4,-1]]\n",
        "positive_samples = [[3, 4], [5,2]]\n",
        "inputs = np.vstack((negative_samples, positive_samples)).astype(np.float32)\n",
        "targets = np.vstack([0.,0.,1.,1.])\n",
        "\n",
        "def linear_classifier_model(input, T):\n",
        "    W = tf.Variable(initial_value=[[T[0]], [T[1]]])\n",
        "    b = tf.Variable(initial_value=[T[2]])\n",
        "    return np.matmul(input, W) + b\n",
        "\n",
        "def y(x, T):\n",
        "    return - T[0]/T[1]*x + (0.5 - T[2])/T[1]\n",
        "\n",
        "plt.figure(figsize=(10, 10))\n",
        "plt.subplots_adjust(wspace=0.35, hspace=0.5)\n",
        "x = np.linspace(0, 7, num=100)\n",
        "target = -x + 5"
      ],
      "metadata": {
        "id": "LC77IcOd-1Ec"
      },
      "execution_count": null,
      "outputs": []
    },
    {
      "cell_type": "code",
      "source": [
        "# Wykres dla T0\n",
        "plt.subplot(3, 2, 1)\n",
        "pred0 = linear_classifier_model(inputs, T0)\n",
        "y0 = y(x, T0)\n",
        "plt.scatter(inputs[:, 0], inputs[:, 1], c=pred0[:, 0] > 0.5, cmap=\"bwr\")\n",
        "plt.plot(x,target,'--', color=\"0.5\")\n",
        "plt.plot(x,y0,'g')\n",
        "plt.title(r'$\\theta_{0}$')\n",
        "plt.xlim(-3,10)\n",
        "plt.ylim(-7, 6)\n",
        "plt.grid()\n",
        "plt.xlabel(r'$x_{n1}$')\n",
        "plt.ylabel(r'$x_{n2}$')\n",
        "\n",
        "# Wykres dla T10\n",
        "plt.subplot(3, 2, 2)\n",
        "pred10 = linear_classifier_model(inputs, T10)\n",
        "y10 = y(x, T10)\n",
        "plt.scatter(inputs[:, 0], inputs[:, 1], c=pred10[:, 0] > 0.5, cmap=\"bwr\")\n",
        "plt.plot(x,target,'--', color=\"0.5\")\n",
        "plt.plot(x,y10,'g')\n",
        "plt.title(r'$\\theta_{0}$')\n",
        "plt.xlim(-3,10)\n",
        "plt.ylim(-7, 6)\n",
        "plt.grid()\n",
        "plt.xlabel(r'$x_{n1}$')\n",
        "plt.ylabel(r'$x_{n2}$')\n",
        "\n",
        "# Wykres dla T20\n",
        "plt.subplot(3, 2, 3)\n",
        "pred20 = linear_classifier_model(inputs, T20)\n",
        "y20 = y(x, T20)\n",
        "plt.scatter(inputs[:, 0], inputs[:, 1], c=pred20[:, 0] > 0.5, cmap=\"bwr\")\n",
        "plt.plot(x,target,'--', color=\"0.5\")\n",
        "plt.plot(x,y20,'g')\n",
        "plt.title(r'$\\theta_{0}$')\n",
        "plt.xlim(-3,10)\n",
        "plt.ylim(-7, 6)\n",
        "plt.grid()\n",
        "plt.xlabel(r'$x_{n1}$')\n",
        "plt.ylabel(r'$x_{n2}$')\n",
        "\n",
        "# Wykres dla T50\n",
        "plt.subplot(3, 2, 4)\n",
        "pred50 = linear_classifier_model(inputs, T50)\n",
        "y50 = y(x, T50)\n",
        "plt.scatter(inputs[:, 0], inputs[:, 1], c=pred50[:, 0] > 0.5, cmap=\"bwr\")\n",
        "plt.plot(x,target,'--', color=\"0.5\")\n",
        "plt.plot(x,y50,'g')\n",
        "plt.title(r'$\\theta_{0}$')\n",
        "plt.xlim(-3,10)\n",
        "plt.ylim(-7, 6)\n",
        "plt.grid()\n",
        "plt.xlabel(r'$x_{n1}$')\n",
        "plt.ylabel(r'$x_{n2}$')\n",
        "\n",
        "# Wykres dla T150\n",
        "plt.subplot(3, 2, 5)\n",
        "pred150 = linear_classifier_model(inputs, T150)\n",
        "y150 = y(x, T150)\n",
        "plt.scatter(inputs[:, 0], inputs[:, 1], c=pred150[:, 0] > 0.5, cmap=\"bwr\")\n",
        "plt.plot(x,target,'--', color=\"0.5\")\n",
        "plt.plot(x,y150,'g')\n",
        "plt.title(r'$\\theta_{0}$')\n",
        "plt.xlim(-3,10)\n",
        "plt.ylim(-7, 6)\n",
        "plt.grid()\n",
        "plt.xlabel(r'$x_{n1}$')\n",
        "plt.ylabel(r'$x_{n2}$')\n",
        "\n",
        "# Wykres dla T300\n",
        "plt.subplot(3, 2, 6)\n",
        "pred300 = linear_classifier_model(inputs, T300)\n",
        "y300 = y(x, T300)\n",
        "plt.scatter(inputs[:, 0], inputs[:, 1], c=pred300[:, 0] > 0.5, cmap=\"bwr\")\n",
        "plt.plot(x,target,'--', color=\"0.5\")\n",
        "plt.plot(x,y300,'g')\n",
        "plt.title(r'$\\theta_{0}$')\n",
        "plt.xlim(-3,10)\n",
        "plt.ylim(-7, 6)\n",
        "plt.grid()\n",
        "plt.xlabel(r'$x_{n1}$')\n",
        "plt.ylabel(r'$x_{n2}$')"
      ],
      "metadata": {
        "id": "OE0m70v_-4XE"
      },
      "execution_count": null,
      "outputs": []
    },
    {
      "cell_type": "code",
      "source": [
        "import tensorflow as tf\n",
        "from tensorflow import keras\n",
        "from tensorflow.keras import layers\n",
        "from tensorflow.keras.datasets import mnist"
      ],
      "metadata": {
        "id": "BcGO7tlyTHp8"
      },
      "execution_count": null,
      "outputs": []
    },
    {
      "cell_type": "markdown",
      "source": [
        "# Funkcje aktywacji\n"
      ],
      "metadata": {
        "id": "UZ8dQzcqZLye"
      }
    },
    {
      "cell_type": "code",
      "source": [
        "import numpy as np\n",
        "import matplotlib.pyplot as plt\n",
        "\n",
        "x = np.linspace(-10, 10, 500)\n",
        "relu = np.maximum(0, x)\n",
        "sigmoid = 1 / (1 + np.exp(-x))\n",
        "relu_derivative = np.where(x > 0, 1, 0)\n",
        "sigmoid_derivative = sigmoid * (1 - sigmoid)\n",
        "\n",
        "plt.subplot(2, 2, 1)\n",
        "plt.plot(x, relu)\n",
        "plt.title(\"ReLU\")\n",
        "plt.grid()\n",
        "\n",
        "plt.subplot(2, 2, 3)\n",
        "plt.plot(x, sigmoid)\n",
        "plt.title(\"Sigmoid\")\n",
        "plt.grid()\n",
        "\n",
        "plt.subplot(2, 2, 2)\n",
        "plt.plot(x, relu_derivative)\n",
        "plt.title(\"Pochodna ReLU\")\n",
        "plt.grid()\n",
        "\n",
        "plt.subplot(2, 2, 4)\n",
        "plt.plot(x, sigmoid_derivative)\n",
        "plt.title(\"Pochodna Sigmoid\")\n",
        "plt.grid()\n",
        "\n",
        "plt.tight_layout()\n",
        "plt.show()"
      ],
      "metadata": {
        "colab": {
          "base_uri": "https://localhost:8080/",
          "height": 486
        },
        "id": "sumJIDFPZLJC",
        "outputId": "c2446867-da98-4792-8b30-4b9104f3c5ca"
      },
      "execution_count": null,
      "outputs": [
        {
          "output_type": "display_data",
          "data": {
            "text/plain": [
              "<Figure size 640x480 with 4 Axes>"
            ],
            "image/png": "[encoded data removed]"
          },
          "metadata": {}
        }
      ]
    },
    {
      "cell_type": "markdown",
      "source": [
        "### ZWIĄZEK TRENINGU Z EWALUACJĄ"
      ],
      "metadata": {
        "id": "UFVJQYfZfLgq"
      }
    },
    {
      "cell_type": "code",
      "source": [
        "(train_images, train_labels), (test_images, test_labels) = mnist.load_data()"
      ],
      "metadata": {
        "id": "4v_TdRDrRKuI",
        "colab": {
          "base_uri": "https://localhost:8080/"
        },
        "outputId": "fc0ecd3d-22e0-4d05-c0c5-48d78516888e"
      },
      "execution_count": null,
      "outputs": [
        {
          "output_type": "stream",
          "name": "stdout",
          "text": [
            "Downloading data from https://storage.googleapis.com/tensorflow/tf-keras-datasets/mnist.npz\n",
            "\u001b[1m11490434/11490434\u001b[0m \u001b[32m━━━━━━━━━━━━━━━━━━━━\u001b[0m\u001b[37m\u001b[0m \u001b[1m0s\u001b[0m 0us/step\n"
          ]
        }
      ]
    },
    {
      "cell_type": "code",
      "source": [
        "model = keras.Sequential([\n",
        "layers.Dense(512, activation=\"relu\"),\n",
        "layers.Dense(10, activation=\"softmax\")\n",
        "])"
      ],
      "metadata": {
        "id": "PO4OCnfRS2ME"
      },
      "execution_count": null,
      "outputs": []
    },
    {
      "cell_type": "code",
      "source": [
        "model.compile(optimizer=\"rmsprop\",\n",
        "              loss=\"sparse_categorical_crossentropy\",\n",
        "              metrics=[\"accuracy\"])"
      ],
      "metadata": {
        "id": "jKiH0EHPW6K3"
      },
      "execution_count": null,
      "outputs": []
    },
    {
      "cell_type": "code",
      "source": [
        "train_images = train_images.reshape((60000, 28 * 28))\n",
        "train_images = train_images.astype(\"float32\") / 255\n",
        "test_images = test_images.reshape((10000, 28 * 28))\n",
        "test_images = test_images.astype(\"float32\") / 255"
      ],
      "metadata": {
        "id": "Fhwl79pGXGxG"
      },
      "execution_count": null,
      "outputs": []
    },
    {
      "cell_type": "code",
      "source": [
        "train_images.shape"
      ],
      "metadata": {
        "colab": {
          "base_uri": "https://localhost:8080/"
        },
        "id": "EaZ-Vh3iXscF",
        "outputId": "2ba985cd-e0a4-4c3c-e7e3-8888128a9cd8"
      },
      "execution_count": null,
      "outputs": [
        {
          "output_type": "execute_result",
          "data": {
            "text/plain": [
              "(60000, 784)"
            ]
          },
          "metadata": {},
          "execution_count": 11
        }
      ]
    },
    {
      "cell_type": "code",
      "source": [
        "history = model.fit(train_images,\n",
        "train_labels,\n",
        "epochs=40,\n",
        "batch_size=256,\n",
        "validation_data=(test_images, test_labels))"
      ],
      "metadata": {
        "colab": {
          "base_uri": "https://localhost:8080/"
        },
        "id": "O-ziVuyBf78U",
        "outputId": "8f23de48-19b3-4cf7-d97a-8be7619f5b09",
        "collapsed": true
      },
      "execution_count": null,
      "outputs": [
        {
          "output_type": "stream",
          "name": "stdout",
          "text": [
            "Epoch 1/40\n",
            "\u001b[1m235/235\u001b[0m \u001b[32m━━━━━━━━━━━━━━━━━━━━\u001b[0m\u001b[37m\u001b[0m \u001b[1m6s\u001b[0m 21ms/step - accuracy: 0.8428 - loss: 0.5423 - val_accuracy: 0.9432 - val_loss: 0.1901\n",
            "Epoch 2/40\n",
            "\u001b[1m235/235\u001b[0m \u001b[32m━━━━━━━━━━━━━━━━━━━━\u001b[0m\u001b[37m\u001b[0m \u001b[1m5s\u001b[0m 21ms/step - accuracy: 0.9544 - loss: 0.1546 - val_accuracy: 0.9632 - val_loss: 0.1220\n",
            "Epoch 3/40\n",
            "\u001b[1m235/235\u001b[0m \u001b[32m━━━━━━━━━━━━━━━━━━━━\u001b[0m\u001b[37m\u001b[0m \u001b[1m3s\u001b[0m 14ms/step - accuracy: 0.9715 - loss: 0.0984 - val_accuracy: 0.9708 - val_loss: 0.0934\n",
            "Epoch 4/40\n",
            "\u001b[1m235/235\u001b[0m \u001b[32m━━━━━━━━━━━━━━━━━━━━\u001b[0m\u001b[37m\u001b[0m \u001b[1m4s\u001b[0m 19ms/step - accuracy: 0.9805 - loss: 0.0690 - val_accuracy: 0.9737 - val_loss: 0.0822\n",
            "Epoch 5/40\n",
            "\u001b[1m235/235\u001b[0m \u001b[32m━━━━━━━━━━━━━━━━━━━━\u001b[0m\u001b[37m\u001b[0m \u001b[1m6s\u001b[0m 24ms/step - accuracy: 0.9848 - loss: 0.0535 - val_accuracy: 0.9728 - val_loss: 0.0902\n",
            "Epoch 6/40\n",
            "\u001b[1m235/235\u001b[0m \u001b[32m━━━━━━━━━━━━━━━━━━━━\u001b[0m\u001b[37m\u001b[0m \u001b[1m6s\u001b[0m 25ms/step - accuracy: 0.9882 - loss: 0.0411 - val_accuracy: 0.9775 - val_loss: 0.0687\n",
            "Epoch 7/40\n",
            "\u001b[1m235/235\u001b[0m \u001b[32m━━━━━━━━━━━━━━━━━━━━\u001b[0m\u001b[37m\u001b[0m \u001b[1m10s\u001b[0m 23ms/step - accuracy: 0.9908 - loss: 0.0335 - val_accuracy: 0.9803 - val_loss: 0.0656\n",
            "Epoch 8/40\n",
            "\u001b[1m235/235\u001b[0m \u001b[32m━━━━━━━━━━━━━━━━━━━━\u001b[0m\u001b[37m\u001b[0m \u001b[1m9s\u001b[0m 16ms/step - accuracy: 0.9936 - loss: 0.0248 - val_accuracy: 0.9785 - val_loss: 0.0675\n",
            "Epoch 9/40\n",
            "\u001b[1m235/235\u001b[0m \u001b[32m━━━━━━━━━━━━━━━━━━━━\u001b[0m\u001b[37m\u001b[0m \u001b[1m6s\u001b[0m 20ms/step - accuracy: 0.9949 - loss: 0.0202 - val_accuracy: 0.9791 - val_loss: 0.0674\n",
            "Epoch 10/40\n",
            "\u001b[1m235/235\u001b[0m \u001b[32m━━━━━━━━━━━━━━━━━━━━\u001b[0m\u001b[37m\u001b[0m \u001b[1m3s\u001b[0m 14ms/step - accuracy: 0.9964 - loss: 0.0160 - val_accuracy: 0.9813 - val_loss: 0.0591\n",
            "Epoch 11/40\n",
            "\u001b[1m235/235\u001b[0m \u001b[32m━━━━━━━━━━━━━━━━━━━━\u001b[0m\u001b[37m\u001b[0m \u001b[1m3s\u001b[0m 14ms/step - accuracy: 0.9980 - loss: 0.0116 - val_accuracy: 0.9805 - val_loss: 0.0632\n",
            "Epoch 12/40\n",
            "\u001b[1m235/235\u001b[0m \u001b[32m━━━━━━━━━━━━━━━━━━━━\u001b[0m\u001b[37m\u001b[0m \u001b[1m4s\u001b[0m 16ms/step - accuracy: 0.9982 - loss: 0.0102 - val_accuracy: 0.9822 - val_loss: 0.0592\n",
            "Epoch 13/40\n",
            "\u001b[1m235/235\u001b[0m \u001b[32m━━━━━━━━━━━━━━━━━━━━\u001b[0m\u001b[37m\u001b[0m \u001b[1m5s\u001b[0m 14ms/step - accuracy: 0.9986 - loss: 0.0081 - val_accuracy: 0.9807 - val_loss: 0.0617\n",
            "Epoch 14/40\n",
            "\u001b[1m235/235\u001b[0m \u001b[32m━━━━━━━━━━━━━━━━━━━━\u001b[0m\u001b[37m\u001b[0m \u001b[1m5s\u001b[0m 14ms/step - accuracy: 0.9990 - loss: 0.0062 - val_accuracy: 0.9831 - val_loss: 0.0573\n",
            "Epoch 15/40\n",
            "\u001b[1m235/235\u001b[0m \u001b[32m━━━━━━━━━━━━━━━━━━━━\u001b[0m\u001b[37m\u001b[0m \u001b[1m5s\u001b[0m 19ms/step - accuracy: 0.9995 - loss: 0.0047 - val_accuracy: 0.9816 - val_loss: 0.0615\n",
            "Epoch 16/40\n",
            "\u001b[1m235/235\u001b[0m \u001b[32m━━━━━━━━━━━━━━━━━━━━\u001b[0m\u001b[37m\u001b[0m \u001b[1m4s\u001b[0m 14ms/step - accuracy: 0.9996 - loss: 0.0037 - val_accuracy: 0.9825 - val_loss: 0.0630\n",
            "Epoch 17/40\n",
            "\u001b[1m235/235\u001b[0m \u001b[32m━━━━━━━━━━━━━━━━━━━━\u001b[0m\u001b[37m\u001b[0m \u001b[1m3s\u001b[0m 14ms/step - accuracy: 0.9998 - loss: 0.0028 - val_accuracy: 0.9814 - val_loss: 0.0645\n",
            "Epoch 18/40\n",
            "\u001b[1m235/235\u001b[0m \u001b[32m━━━━━━━━━━━━━━━━━━━━\u001b[0m\u001b[37m\u001b[0m \u001b[1m3s\u001b[0m 14ms/step - accuracy: 0.9999 - loss: 0.0023 - val_accuracy: 0.9828 - val_loss: 0.0616\n",
            "Epoch 19/40\n",
            "\u001b[1m235/235\u001b[0m \u001b[32m━━━━━━━━━━━━━━━━━━━━\u001b[0m\u001b[37m\u001b[0m \u001b[1m5s\u001b[0m 21ms/step - accuracy: 0.9999 - loss: 0.0018 - val_accuracy: 0.9828 - val_loss: 0.0609\n",
            "Epoch 20/40\n",
            "\u001b[1m235/235\u001b[0m \u001b[32m━━━━━━━━━━━━━━━━━━━━\u001b[0m\u001b[37m\u001b[0m \u001b[1m3s\u001b[0m 13ms/step - accuracy: 1.0000 - loss: 0.0013 - val_accuracy: 0.9818 - val_loss: 0.0641\n",
            "Epoch 21/40\n",
            "\u001b[1m235/235\u001b[0m \u001b[32m━━━━━━━━━━━━━━━━━━━━\u001b[0m\u001b[37m\u001b[0m \u001b[1m5s\u001b[0m 13ms/step - accuracy: 0.9999 - loss: 0.0013 - val_accuracy: 0.9826 - val_loss: 0.0633\n",
            "Epoch 22/40\n",
            "\u001b[1m235/235\u001b[0m \u001b[32m━━━━━━━━━━━━━━━━━━━━\u001b[0m\u001b[37m\u001b[0m \u001b[1m5s\u001b[0m 15ms/step - accuracy: 1.0000 - loss: 9.1153e-04 - val_accuracy: 0.9822 - val_loss: 0.0642\n",
            "Epoch 23/40\n",
            "\u001b[1m235/235\u001b[0m \u001b[32m━━━━━━━━━━━━━━━━━━━━\u001b[0m\u001b[37m\u001b[0m \u001b[1m3s\u001b[0m 13ms/step - accuracy: 1.0000 - loss: 8.3149e-04 - val_accuracy: 0.9829 - val_loss: 0.0639\n",
            "Epoch 24/40\n",
            "\u001b[1m235/235\u001b[0m \u001b[32m━━━━━━━━━━━━━━━━━━━━\u001b[0m\u001b[37m\u001b[0m \u001b[1m6s\u001b[0m 17ms/step - accuracy: 1.0000 - loss: 7.2933e-04 - val_accuracy: 0.9831 - val_loss: 0.0647\n",
            "Epoch 25/40\n",
            "\u001b[1m235/235\u001b[0m \u001b[32m━━━━━━━━━━━━━━━━━━━━\u001b[0m\u001b[37m\u001b[0m \u001b[1m4s\u001b[0m 14ms/step - accuracy: 1.0000 - loss: 6.4211e-04 - val_accuracy: 0.9828 - val_loss: 0.0645\n",
            "Epoch 26/40\n",
            "\u001b[1m235/235\u001b[0m \u001b[32m━━━━━━━━━━━━━━━━━━━━\u001b[0m\u001b[37m\u001b[0m \u001b[1m5s\u001b[0m 14ms/step - accuracy: 1.0000 - loss: 5.8475e-04 - val_accuracy: 0.9825 - val_loss: 0.0645\n",
            "Epoch 27/40\n",
            "\u001b[1m235/235\u001b[0m \u001b[32m━━━━━━━━━━━━━━━━━━━━\u001b[0m\u001b[37m\u001b[0m \u001b[1m6s\u001b[0m 19ms/step - accuracy: 1.0000 - loss: 5.3564e-04 - val_accuracy: 0.9829 - val_loss: 0.0658\n",
            "Epoch 28/40\n",
            "\u001b[1m235/235\u001b[0m \u001b[32m━━━━━━━━━━━━━━━━━━━━\u001b[0m\u001b[37m\u001b[0m \u001b[1m4s\u001b[0m 14ms/step - accuracy: 1.0000 - loss: 4.9366e-04 - val_accuracy: 0.9830 - val_loss: 0.0657\n",
            "Epoch 29/40\n",
            "\u001b[1m235/235\u001b[0m \u001b[32m━━━━━━━━━━━━━━━━━━━━\u001b[0m\u001b[37m\u001b[0m \u001b[1m3s\u001b[0m 14ms/step - accuracy: 1.0000 - loss: 4.6594e-04 - val_accuracy: 0.9831 - val_loss: 0.0660\n",
            "Epoch 30/40\n",
            "\u001b[1m235/235\u001b[0m \u001b[32m━━━━━━━━━━━━━━━━━━━━\u001b[0m\u001b[37m\u001b[0m \u001b[1m6s\u001b[0m 19ms/step - accuracy: 1.0000 - loss: 4.3564e-04 - val_accuracy: 0.9828 - val_loss: 0.0665\n",
            "Epoch 31/40\n",
            "\u001b[1m235/235\u001b[0m \u001b[32m━━━━━━━━━━━━━━━━━━━━\u001b[0m\u001b[37m\u001b[0m \u001b[1m4s\u001b[0m 14ms/step - accuracy: 1.0000 - loss: 4.0695e-04 - val_accuracy: 0.9828 - val_loss: 0.0668\n",
            "Epoch 32/40\n",
            "\u001b[1m235/235\u001b[0m \u001b[32m━━━━━━━━━━━━━━━━━━━━\u001b[0m\u001b[37m\u001b[0m \u001b[1m3s\u001b[0m 14ms/step - accuracy: 1.0000 - loss: 3.7275e-04 - val_accuracy: 0.9828 - val_loss: 0.0670\n",
            "Epoch 33/40\n",
            "\u001b[1m235/235\u001b[0m \u001b[32m━━━━━━━━━━━━━━━━━━━━\u001b[0m\u001b[37m\u001b[0m \u001b[1m7s\u001b[0m 20ms/step - accuracy: 1.0000 - loss: 3.5761e-04 - val_accuracy: 0.9832 - val_loss: 0.0673\n",
            "Epoch 34/40\n",
            "\u001b[1m235/235\u001b[0m \u001b[32m━━━━━━━━━━━━━━━━━━━━\u001b[0m\u001b[37m\u001b[0m \u001b[1m4s\u001b[0m 13ms/step - accuracy: 1.0000 - loss: 3.4217e-04 - val_accuracy: 0.9826 - val_loss: 0.0679\n",
            "Epoch 35/40\n",
            "\u001b[1m235/235\u001b[0m \u001b[32m━━━━━━━━━━━━━━━━━━━━\u001b[0m\u001b[37m\u001b[0m \u001b[1m3s\u001b[0m 14ms/step - accuracy: 1.0000 - loss: 3.3802e-04 - val_accuracy: 0.9830 - val_loss: 0.0680\n",
            "Epoch 36/40\n",
            "\u001b[1m235/235\u001b[0m \u001b[32m━━━━━━━━━━━━━━━━━━━━\u001b[0m\u001b[37m\u001b[0m \u001b[1m7s\u001b[0m 20ms/step - accuracy: 1.0000 - loss: 3.1366e-04 - val_accuracy: 0.9831 - val_loss: 0.0682\n",
            "Epoch 37/40\n",
            "\u001b[1m235/235\u001b[0m \u001b[32m━━━━━━━━━━━━━━━━━━━━\u001b[0m\u001b[37m\u001b[0m \u001b[1m4s\u001b[0m 13ms/step - accuracy: 1.0000 - loss: 2.9723e-04 - val_accuracy: 0.9826 - val_loss: 0.0690\n",
            "Epoch 38/40\n",
            "\u001b[1m235/235\u001b[0m \u001b[32m━━━━━━━━━━━━━━━━━━━━\u001b[0m\u001b[37m\u001b[0m \u001b[1m5s\u001b[0m 14ms/step - accuracy: 1.0000 - loss: 2.8340e-04 - val_accuracy: 0.9832 - val_loss: 0.0689\n",
            "Epoch 39/40\n",
            "\u001b[1m235/235\u001b[0m \u001b[32m━━━━━━━━━━━━━━━━━━━━\u001b[0m\u001b[37m\u001b[0m \u001b[1m5s\u001b[0m 14ms/step - accuracy: 1.0000 - loss: 2.7295e-04 - val_accuracy: 0.9827 - val_loss: 0.0689\n",
            "Epoch 40/40\n",
            "\u001b[1m235/235\u001b[0m \u001b[32m━━━━━━━━━━━━━━━━━━━━\u001b[0m\u001b[37m\u001b[0m \u001b[1m5s\u001b[0m 13ms/step - accuracy: 1.0000 - loss: 2.6223e-04 - val_accuracy: 0.9830 - val_loss: 0.0696\n"
          ]
        }
      ]
    },
    {
      "cell_type": "code",
      "source": [
        "import matplotlib.pyplot as plt\n",
        "history_dict = history.history\n",
        "loss_values = history_dict[\"loss\"]\n",
        "val_loss_values = history_dict[\"val_loss\"]\n",
        "epochs = range(1, len(loss_values) + 1)\n",
        "plt.plot(epochs, loss_values, \"--b\", label=\"dane treningowe\")\n",
        "plt.plot(epochs, val_loss_values, \"b\", label=\"dane walidacyjne\")\n",
        "plt.title(\"Wartości funkcji strat \\nwyliczone na danych treningowych i walidacyjnych\")\n",
        "plt.xlabel(\"Epoki\")\n",
        "plt.ylabel(\"Wartość funkcji strat\")\n",
        "plt.ylim(0, 0.15)\n",
        "plt.legend()\n",
        "plt.grid()\n",
        "plt.savefig(\"strata.svg\")\n",
        "plt.show()"
      ],
      "metadata": {
        "colab": {
          "base_uri": "https://localhost:8080/",
          "height": 493
        },
        "id": "uy_yPcSHgYwU",
        "outputId": "726e00b8-7d45-4cc8-fef8-564db36e9a97"
      },
      "execution_count": null,
      "outputs": [
        {
          "output_type": "display_data",
          "data": {
            "text/plain": [
              "<Figure size 640x480 with 1 Axes>"
            ],
            "image/png": "[encoded data removed]"
          },
          "metadata": {}
        }
      ]
    },
    {
      "cell_type": "markdown",
      "source": [
        "### TESTY WARSTW KONWOLUCYJNYCH I MAXPOOLING"
      ],
      "metadata": {
        "id": "K2jkryY9fRqS"
      }
    },
    {
      "cell_type": "code",
      "source": [
        "import numpy as np\n",
        "from keras.models import Sequential\n",
        "from keras.layers import MaxPooling2D, Conv2D\n",
        "import numpy as np"
      ],
      "metadata": {
        "id": "Q5NgW-wrjGIn"
      },
      "execution_count": null,
      "outputs": []
    },
    {
      "cell_type": "code",
      "source": [
        "# define input\n",
        "image = np.array([[1, 2, 3, 4],\n",
        "                  [1, 2, 3, 4],\n",
        "                  [1, 2, 3, 4],\n",
        "                  [1, 2, 3, 4]])\n",
        "\n",
        "image = image.reshape(1, 4, 4, 1)\n",
        "\n",
        "# define model containing just a single max pooling layer\n",
        "model = Sequential(\n",
        " [Conv2D(filters=2, kernel_size=3, activation=\"relu\", input_shape=(4,4,1))])\n",
        "\n",
        "model.build()\n",
        "\n",
        "conv_layer = model.layers[0]\n",
        "weights_shape = conv_layer.get_weights()[0].shape\n",
        "biases_shape = conv_layer.get_weights()[1].shape\n",
        "\n",
        "new_weights = np.ones(weights_shape)\n",
        "new_biases = np.ones(biases_shape)\n",
        "\n",
        "conv_layer.set_weights([new_weights, new_biases])\n",
        "weights = conv_layer.get_weights()\n",
        "\n",
        "print(\"Filter biases: \" + str(weights[1]))\n",
        "\n",
        "for i in range(weights[0].shape[-1]):\n",
        "    print(f\"\\nFilter {i+1}:\")\n",
        "    print(\"Filter biases: \" + str(weights[1][i]))\n",
        "    print(weights[0][:, :, 0, i])\n"
      ],
      "metadata": {
        "colab": {
          "base_uri": "https://localhost:8080/"
        },
        "id": "3sZp4fqGfY7i",
        "outputId": "c632e190-dbc2-4399-fa13-4fcdc2415c44"
      },
      "execution_count": null,
      "outputs": [
        {
          "output_type": "stream",
          "name": "stdout",
          "text": [
            "Filter biases: [1. 1.]\n",
            "\n",
            "Filter 1:\n",
            "Filter biases: 1.0\n",
            "[[1. 1. 1.]\n",
            " [1. 1. 1.]\n",
            " [1. 1. 1.]]\n",
            "\n",
            "Filter 2:\n",
            "Filter biases: 1.0\n",
            "[[1. 1. 1.]\n",
            " [1. 1. 1.]\n",
            " [1. 1. 1.]]\n"
          ]
        }
      ]
    },
    {
      "cell_type": "code",
      "source": [
        "import numpy as np\n",
        "import matplotlib.pyplot as plt\n",
        "\n",
        "image = np.array([[4, 1, 1, 1],\n",
        "                  [1, 4, 1, 1],\n",
        "                  [1, 1, 4, 1],\n",
        "                  [1, 1, 1, 4]])\n",
        "\n",
        "plt.figure(figsize=(4, 4))\n",
        "\n",
        "plt.imshow(image, cmap='viridis', origin='upper')\n",
        "\n",
        "plt.xticks(range(image.shape[1]))\n",
        "plt.yticks(range(image.shape[0]))\n",
        "\n",
        "for i in range(image.shape[0]):\n",
        "    for j in range(image.shape[1]):\n",
        "        plt.text(j, i, image[i, j],\n",
        "                 ha='center', va='center', color='white', fontsize=24)\n",
        "\n",
        "plt.savefig(\"image.svg\")\n",
        "plt.show()"
      ],
      "metadata": {
        "colab": {
          "base_uri": "https://localhost:8080/",
          "height": 368
        },
        "id": "-ttV4Q9Jc-f0",
        "outputId": "be5342e5-9ecd-4e0c-cf92-a352a3b9a365"
      },
      "execution_count": null,
      "outputs": [
        {
          "output_type": "display_data",
          "data": {
            "text/plain": [
              "<Figure size 400x400 with 1 Axes>"
            ],
            "image/png": "[encoded data removed]"
          },
          "metadata": {}
        }
      ]
    },
    {
      "cell_type": "code",
      "source": [
        "import numpy as np\n",
        "import matplotlib.pyplot as plt\n",
        "\n",
        "image = np.array([[1, 0, 0],\n",
        "                  [0, 1, 0],\n",
        "                  [0, 0, 1]])\n",
        "\n",
        "plt.figure(figsize=(4, 4))\n",
        "\n",
        "plt.imshow(image, cmap='viridis', origin='upper')\n",
        "\n",
        "plt.xticks(range(image.shape[1]))\n",
        "plt.yticks(range(image.shape[0]))\n",
        "\n",
        "for i in range(image.shape[0]):\n",
        "    for j in range(image.shape[1]):\n",
        "        plt.text(j, i, image[i, j],\n",
        "                 ha='center', va='center', color='white', fontsize=24)\n",
        "\n",
        "plt.savefig(\"filtr.svg\")\n",
        "plt.show()"
      ],
      "metadata": {
        "colab": {
          "base_uri": "https://localhost:8080/",
          "height": 368
        },
        "id": "L_mUpbDDn5Ys",
        "outputId": "e9df3a62-7830-4c48-98a5-eb5150c5bb60"
      },
      "execution_count": null,
      "outputs": [
        {
          "output_type": "display_data",
          "data": {
            "text/plain": [
              "<Figure size 400x400 with 1 Axes>"
            ],
            "image/png": "[encoded data removed]"
          },
          "metadata": {}
        }
      ]
    },
    {
      "cell_type": "code",
      "source": [
        "import numpy as np\n",
        "import matplotlib.pyplot as plt\n",
        "\n",
        "image = np.array([[12, 3],\n",
        "                  [3, 12]])\n",
        "\n",
        "plt.figure(figsize=(4, 4))\n",
        "\n",
        "plt.imshow(image, cmap='viridis', origin='upper')\n",
        "\n",
        "plt.xticks(range(image.shape[1]))\n",
        "plt.yticks(range(image.shape[0]))\n",
        "\n",
        "for i in range(image.shape[0]):\n",
        "    for j in range(image.shape[1]):\n",
        "        plt.text(j, i, image[i, j],\n",
        "                 ha='center', va='center', color='white', fontsize=24)\n",
        "\n",
        "plt.savefig(\"wyniki_splotu.svg\")\n",
        "plt.show()"
      ],
      "metadata": {
        "colab": {
          "base_uri": "https://localhost:8080/",
          "height": 368
        },
        "id": "GnllzUHcrRFX",
        "outputId": "a3e01687-229d-4887-a979-42f0e9123503"
      },
      "execution_count": null,
      "outputs": [
        {
          "output_type": "display_data",
          "data": {
            "text/plain": [
              "<Figure size 400x400 with 1 Axes>"
            ],
            "image/png": "[encoded data removed]"
          },
          "metadata": {}
        }
      ]
    },
    {
      "cell_type": "code",
      "source": [
        "import numpy as np\n",
        "import matplotlib.pyplot as plt\n",
        "import matplotlib.patches as patches\n",
        "\n",
        "image = np.array([[4, 1, 1, 1],\n",
        "                  [1, 4, 1, 1],\n",
        "                  [1, 1, 4, 1],\n",
        "                  [1, 1, 1, 4]])\n",
        "\n",
        "plt.figure(figsize=(4, 4))\n",
        "plt.subplot(2,2,1)\n",
        "\n",
        "plt.imshow(image, cmap='viridis', origin='upper')\n",
        "\n",
        "for i in range(image.shape[0]):\n",
        "    for j in range(image.shape[1]):\n",
        "        plt.text(j, i, image[i, j],\n",
        "                 ha='center', va='center', color='white', fontsize=12)\n",
        "\n",
        "top_left_corners = [(0, 0)]\n",
        "\n",
        "colors = ['red']\n",
        "\n",
        "ax = plt.gca()\n",
        "for (row, col), color in zip(top_left_corners, colors):\n",
        "\n",
        "    rect = patches.Rectangle(\n",
        "        (col - 0.5, row - 0.5),\n",
        "        3,\n",
        "        3,\n",
        "        linewidth=2,\n",
        "        edgecolor=color,\n",
        "        facecolor='none'\n",
        "    )\n",
        "    ax.add_patch(rect)\n",
        "\n",
        "plt.xticks(range(image.shape[1]))\n",
        "plt.yticks(range(image.shape[0]))\n",
        "#-------------------------------------------------------------------------------\n",
        "plt.subplot(2,2,2)\n",
        "\n",
        "plt.imshow(image, cmap='viridis', origin='upper')\n",
        "\n",
        "for i in range(image.shape[0]):\n",
        "    for j in range(image.shape[1]):\n",
        "        plt.text(j, i, image[i, j],\n",
        "                 ha='center', va='center', color='white', fontsize=12)\n",
        "\n",
        "top_left_corners = [(0, 1)]\n",
        "\n",
        "colors = ['red']\n",
        "\n",
        "ax = plt.gca()\n",
        "for (row, col), color in zip(top_left_corners, colors):\n",
        "    rect = patches.Rectangle(\n",
        "        (col - 0.5, row - 0.5),\n",
        "        3,\n",
        "        3,\n",
        "        linewidth=2,\n",
        "        edgecolor=color,\n",
        "        facecolor='none'\n",
        "    )\n",
        "    ax.add_patch(rect)\n",
        "\n",
        "plt.xticks(range(image.shape[1]))\n",
        "plt.yticks(range(image.shape[0]))\n",
        "#-------------------------------------------------------------------------------\n",
        "plt.subplot(2,2,3)\n",
        "\n",
        "plt.imshow(image, cmap='viridis', origin='upper')\n",
        "\n",
        "for i in range(image.shape[0]):\n",
        "    for j in range(image.shape[1]):\n",
        "        plt.text(j, i, image[i, j],\n",
        "                 ha='center', va='center', color='white', fontsize=12)\n",
        "\n",
        "top_left_corners = [(1, 0)]\n",
        "\n",
        "colors = ['red']\n",
        "\n",
        "ax = plt.gca()\n",
        "for (row, col), color in zip(top_left_corners, colors):\n",
        "\n",
        "    rect = patches.Rectangle(\n",
        "        (col - 0.5, row - 0.5),\n",
        "        3,\n",
        "        3,\n",
        "        linewidth=2,\n",
        "        edgecolor=color,\n",
        "        facecolor='none'\n",
        "    )\n",
        "    ax.add_patch(rect)\n",
        "\n",
        "plt.xticks(range(image.shape[1]))\n",
        "plt.yticks(range(image.shape[0]))\n",
        "#-------------------------------------------------------------------------------\n",
        "plt.subplot(2,2,4)\n",
        "\n",
        "plt.imshow(image, cmap='viridis', origin='upper')\n",
        "\n",
        "for i in range(image.shape[0]):\n",
        "    for j in range(image.shape[1]):\n",
        "        plt.text(j, i, image[i, j],\n",
        "                 ha='center', va='center', color='white', fontsize=12)\n",
        "\n",
        "top_left_corners = [(1, 1)]\n",
        "\n",
        "colors = ['red']\n",
        "\n",
        "ax = plt.gca()\n",
        "for (row, col), color in zip(top_left_corners, colors):\n",
        "\n",
        "    rect = patches.Rectangle(\n",
        "        (col - 0.5, row - 0.5),  # (x, y)\n",
        "        3,                       # width\n",
        "        3,                       # height\n",
        "        linewidth=2,\n",
        "        edgecolor=color,\n",
        "        facecolor='none'\n",
        "    )\n",
        "    ax.add_patch(rect)\n",
        "\n",
        "plt.xticks(range(image.shape[1]))\n",
        "plt.yticks(range(image.shape[0]))\n",
        "\n",
        "plt.savefig(\"pozycje_filtrow.svg\")\n",
        "plt.show()\n"
      ],
      "metadata": {
        "colab": {
          "base_uri": "https://localhost:8080/",
          "height": 368
        },
        "id": "k-Qut_2omGRC",
        "outputId": "1d452f52-2528-40a5-bc45-5a62caa16b65"
      },
      "execution_count": null,
      "outputs": [
        {
          "output_type": "display_data",
          "data": {
            "text/plain": [
              "<Figure size 400x400 with 4 Axes>"
            ],
            "image/png": "[encoded data removed]"
          },
          "metadata": {}
        }
      ]
    },
    {
      "cell_type": "code",
      "source": [
        "import numpy as np\n",
        "import matplotlib.pyplot as plt\n",
        "\n",
        "image = np.array([[19, 28],\n",
        "                  [19, 28]])\n",
        "\n",
        "plt.figure(figsize=(2, 2))\n",
        "\n",
        "plt.imshow(image, cmap='viridis', origin='upper')\n",
        "\n",
        "plt.colorbar(label='Value')\n",
        "\n",
        "plt.xticks(range(image.shape[1]))\n",
        "plt.yticks(range(image.shape[0]))\n",
        "\n",
        "for i in range(image.shape[0]):\n",
        "    for j in range(image.shape[1]):\n",
        "        plt.text(j, i, image[i, j],\n",
        "                 ha='center', va='center', color='white', fontsize=12)\n",
        "\n",
        "plt.show()"
      ],
      "metadata": {
        "colab": {
          "base_uri": "https://localhost:8080/",
          "height": 205
        },
        "id": "w0Eml-OrdXAZ",
        "outputId": "22e03a45-b062-4850-979a-0edb462e65f1"
      },
      "execution_count": null,
      "outputs": [
        {
          "output_type": "display_data",
          "data": {
            "text/plain": [
              "<Figure size 200x200 with 2 Axes>"
            ],
            "image/png": "[encoded data removed]"
          },
          "metadata": {}
        }
      ]
    },
    {
      "cell_type": "code",
      "source": [
        "output = model.predict(image)\n",
        "print(output)"
      ],
      "metadata": {
        "colab": {
          "base_uri": "https://localhost:8080/"
        },
        "id": "Q03WshMGjjD9",
        "outputId": "ccb2addc-95ef-4223-ae55-401cd8386c82"
      },
      "execution_count": null,
      "outputs": [
        {
          "output_type": "stream",
          "name": "stdout",
          "text": [
            "\u001b[1m1/1\u001b[0m \u001b[32m━━━━━━━━━━━━━━━━━━━━\u001b[0m\u001b[37m\u001b[0m \u001b[1m0s\u001b[0m 42ms/step\n",
            "[[[[19. 19.]\n",
            "   [28. 28.]]\n",
            "\n",
            "  [[19. 19.]\n",
            "   [28. 28.]]]]\n"
          ]
        }
      ]
    }
  ]
}